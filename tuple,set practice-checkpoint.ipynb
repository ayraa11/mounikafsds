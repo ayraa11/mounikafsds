{
 "cells": [
  {
   "cell_type": "code",
   "execution_count": 1,
   "id": "318c9df2-7ef2-444b-bede-b4aed8d30a68",
   "metadata": {},
   "outputs": [
    {
     "data": {
      "text/plain": [
       "()"
      ]
     },
     "execution_count": 1,
     "metadata": {},
     "output_type": "execute_result"
    }
   ],
   "source": [
    "t=()\n",
    "t"
   ]
  },
  {
   "cell_type": "code",
   "execution_count": 2,
   "id": "85a8c54a-3462-4c94-84f8-4547f2f28439",
   "metadata": {},
   "outputs": [
    {
     "data": {
      "text/plain": [
       "tuple"
      ]
     },
     "execution_count": 2,
     "metadata": {},
     "output_type": "execute_result"
    }
   ],
   "source": [
    "type(t)"
   ]
  },
  {
   "cell_type": "code",
   "execution_count": 3,
   "id": "434c61ec-05b9-477a-a0c9-b0ccc98a153b",
   "metadata": {},
   "outputs": [
    {
     "data": {
      "text/plain": [
       "(1, 3, 5, 7, 9)"
      ]
     },
     "execution_count": 3,
     "metadata": {},
     "output_type": "execute_result"
    }
   ],
   "source": [
    "t1=1,3,5,7,9\n",
    "t1"
   ]
  },
  {
   "cell_type": "code",
   "execution_count": 4,
   "id": "f5553697-52a5-4f09-982f-0e8ded8af341",
   "metadata": {},
   "outputs": [
    {
     "data": {
      "text/plain": [
       "(22, 33, 44, 55, 66, 22)"
      ]
     },
     "execution_count": 4,
     "metadata": {},
     "output_type": "execute_result"
    }
   ],
   "source": [
    "t2=(22,33,44,55,66,22)\n",
    "t2"
   ]
  },
  {
   "cell_type": "markdown",
   "id": "d19592f3-fb17-4b42-bcaf-490e10e32d87",
   "metadata": {},
   "source": [
    "t2.count(22)\n"
   ]
  },
  {
   "cell_type": "code",
   "execution_count": 7,
   "id": "2dc50291-8591-42cf-9cc5-cf9fd8d5f235",
   "metadata": {},
   "outputs": [
    {
     "data": {
      "text/plain": [
       "2"
      ]
     },
     "execution_count": 7,
     "metadata": {},
     "output_type": "execute_result"
    }
   ],
   "source": [
    "t2.count(22)"
   ]
  },
  {
   "cell_type": "code",
   "execution_count": 8,
   "id": "38f5bbdc-7279-4ad4-89ff-13e9db5e6681",
   "metadata": {},
   "outputs": [
    {
     "ename": "AttributeError",
     "evalue": "'tuple' object has no attribute 'append'",
     "output_type": "error",
     "traceback": [
      "\u001b[1;31m---------------------------------------------------------------------------\u001b[0m",
      "\u001b[1;31mAttributeError\u001b[0m                            Traceback (most recent call last)",
      "Cell \u001b[1;32mIn[8], line 1\u001b[0m\n\u001b[1;32m----> 1\u001b[0m t2\u001b[38;5;241m.\u001b[39mappend(\u001b[38;5;241m33\u001b[39m)\n",
      "\u001b[1;31mAttributeError\u001b[0m: 'tuple' object has no attribute 'append'"
     ]
    }
   ],
   "source": [
    "t2.append(33)"
   ]
  },
  {
   "cell_type": "code",
   "execution_count": 1,
   "id": "890af41d-4f8e-43b2-9d49-f6660eb3fca7",
   "metadata": {},
   "outputs": [
    {
     "data": {
      "text/plain": [
       "(31, 32, 33, 34, 35, 36, 27, 38)"
      ]
     },
     "execution_count": 1,
     "metadata": {},
     "output_type": "execute_result"
    }
   ],
   "source": [
    "t3=(31,32,33,34,35,36,27,38)\n",
    "t3"
   ]
  },
  {
   "cell_type": "code",
   "execution_count": 2,
   "id": "39b14c55-8375-43d8-9d1f-b9bf231ef2a3",
   "metadata": {},
   "outputs": [
    {
     "data": {
      "text/plain": [
       "31"
      ]
     },
     "execution_count": 2,
     "metadata": {},
     "output_type": "execute_result"
    }
   ],
   "source": [
    "t3[0]"
   ]
  },
  {
   "cell_type": "code",
   "execution_count": 3,
   "id": "e6b3818e-7909-4cf6-96a2-841179360f1c",
   "metadata": {},
   "outputs": [
    {
     "data": {
      "text/plain": [
       "(32, 33, 34, 35, 36)"
      ]
     },
     "execution_count": 3,
     "metadata": {},
     "output_type": "execute_result"
    }
   ],
   "source": [
    "t3[1:6]"
   ]
  },
  {
   "cell_type": "markdown",
   "id": "9d454602-219e-4641-bb24-aea78117276d",
   "metadata": {},
   "source": [
    "t3[3:]"
   ]
  },
  {
   "cell_type": "code",
   "execution_count": 4,
   "id": "0562a571-a59e-4f0f-908f-a70bf8ef9cb2",
   "metadata": {},
   "outputs": [
    {
     "data": {
      "text/plain": [
       "(34, 35, 36, 27, 38)"
      ]
     },
     "execution_count": 4,
     "metadata": {},
     "output_type": "execute_result"
    }
   ],
   "source": [
    "t3[3:]"
   ]
  },
  {
   "cell_type": "code",
   "execution_count": 5,
   "id": "a693a382-febf-49eb-87cd-6fda58a033c9",
   "metadata": {},
   "outputs": [
    {
     "data": {
      "text/plain": [
       "(31, 32, 33, 34, 35, 36, 27)"
      ]
     },
     "execution_count": 5,
     "metadata": {},
     "output_type": "execute_result"
    }
   ],
   "source": [
    "t3[:7]"
   ]
  },
  {
   "cell_type": "code",
   "execution_count": 6,
   "id": "b36ddf9d-e54f-4ed3-a389-8bac17e4e79b",
   "metadata": {},
   "outputs": [
    {
     "data": {
      "text/plain": [
       "27"
      ]
     },
     "execution_count": 6,
     "metadata": {},
     "output_type": "execute_result"
    }
   ],
   "source": [
    "t3[-2]"
   ]
  },
  {
   "cell_type": "code",
   "execution_count": 9,
   "id": "7f7d529d-cb47-4664-95b6-2e6e1ce6113b",
   "metadata": {},
   "outputs": [
    {
     "data": {
      "text/plain": [
       "()"
      ]
     },
     "execution_count": 9,
     "metadata": {},
     "output_type": "execute_result"
    }
   ],
   "source": [
    "t3[_6:-3]"
   ]
  },
  {
   "cell_type": "code",
   "execution_count": 11,
   "id": "52c8596f-3eca-4b70-bc18-9b92f25a29f5",
   "metadata": {},
   "outputs": [
    {
     "data": {
      "text/plain": [
       "(34, 35, 36, 27)"
      ]
     },
     "execution_count": 11,
     "metadata": {},
     "output_type": "execute_result"
    }
   ],
   "source": [
    "t3[-5:-1]"
   ]
  },
  {
   "cell_type": "code",
   "execution_count": 12,
   "id": "43b245bc-0fa7-47c2-8211-beba2903cbe3",
   "metadata": {},
   "outputs": [
    {
     "ename": "NameError",
     "evalue": "name 'delt3' is not defined",
     "output_type": "error",
     "traceback": [
      "\u001b[1;31m---------------------------------------------------------------------------\u001b[0m",
      "\u001b[1;31mNameError\u001b[0m                                 Traceback (most recent call last)",
      "Cell \u001b[1;32mIn[12], line 1\u001b[0m\n\u001b[1;32m----> 1\u001b[0m delt3[\u001b[38;5;241m2\u001b[39m]\n\u001b[0;32m      2\u001b[0m t3\n",
      "\u001b[1;31mNameError\u001b[0m: name 'delt3' is not defined"
     ]
    }
   ],
   "source": [
    "delt3[2]\n",
    "t3"
   ]
  },
  {
   "cell_type": "code",
   "execution_count": 15,
   "id": "20be4da0-a9f6-46f3-a643-9edfd418b605",
   "metadata": {},
   "outputs": [
    {
     "data": {
      "text/plain": [
       "(1, 2, 3, 4, 5, 6)"
      ]
     },
     "execution_count": 15,
     "metadata": {},
     "output_type": "execute_result"
    }
   ],
   "source": [
    "t4=(1,2,3,4,5,6)\n",
    "t4"
   ]
  },
  {
   "cell_type": "code",
   "execution_count": 16,
   "id": "f4c4c9f2-aaf4-429d-8cc6-6be614df2b62",
   "metadata": {},
   "outputs": [
    {
     "name": "stdout",
     "output_type": "stream",
     "text": [
      "1\n",
      "2\n",
      "3\n",
      "4\n",
      "5\n",
      "6\n"
     ]
    }
   ],
   "source": [
    "for i in t4:\n",
    "    print(i)"
   ]
  },
  {
   "cell_type": "code",
   "execution_count": 19,
   "id": "d766dbab-50d6-490e-b0fa-de09ad3ed13f",
   "metadata": {},
   "outputs": [
    {
     "ename": "SyntaxError",
     "evalue": "expected ':' (3091912637.py, line 1)",
     "output_type": "error",
     "traceback": [
      "\u001b[1;36m  Cell \u001b[1;32mIn[19], line 1\u001b[1;36m\u001b[0m\n\u001b[1;33m    for i in enumeraterate(t4)\u001b[0m\n\u001b[1;37m                              ^\u001b[0m\n\u001b[1;31mSyntaxError\u001b[0m\u001b[1;31m:\u001b[0m expected ':'\n"
     ]
    }
   ],
   "source": [
    "for i in enumeraterate(t4)\n",
    "print(i)"
   ]
  },
  {
   "cell_type": "code",
   "execution_count": 20,
   "id": "e9432457-5786-41fe-baf5-f2fd944bd01e",
   "metadata": {},
   "outputs": [
    {
     "data": {
      "text/plain": [
       "(1, 2, 3, 4, 5, 6)"
      ]
     },
     "execution_count": 20,
     "metadata": {},
     "output_type": "execute_result"
    }
   ],
   "source": [
    "t4"
   ]
  },
  {
   "cell_type": "code",
   "execution_count": 21,
   "id": "d8ecfa0e-2a0a-416d-b17d-c03b1124da31",
   "metadata": {},
   "outputs": [
    {
     "data": {
      "text/plain": [
       "True"
      ]
     },
     "execution_count": 21,
     "metadata": {},
     "output_type": "execute_result"
    }
   ],
   "source": [
    "2 in t4"
   ]
  },
  {
   "cell_type": "code",
   "execution_count": 22,
   "id": "ed4265e4-7ca1-4bd8-a057-6dd90509edc9",
   "metadata": {},
   "outputs": [
    {
     "data": {
      "text/plain": [
       "False"
      ]
     },
     "execution_count": 22,
     "metadata": {},
     "output_type": "execute_result"
    }
   ],
   "source": [
    "8 in t4"
   ]
  },
  {
   "cell_type": "code",
   "execution_count": 23,
   "id": "3ebacd12-681d-4cc4-9865-9e628967a0dc",
   "metadata": {},
   "outputs": [
    {
     "data": {
      "text/plain": [
       "0"
      ]
     },
     "execution_count": 23,
     "metadata": {},
     "output_type": "execute_result"
    }
   ],
   "source": [
    "t4.index(1)"
   ]
  },
  {
   "cell_type": "code",
   "execution_count": 24,
   "id": "0e6095e4-5522-44fd-bba5-7b7ec4f5614c",
   "metadata": {},
   "outputs": [
    {
     "data": {
      "text/plain": [
       "3"
      ]
     },
     "execution_count": 24,
     "metadata": {},
     "output_type": "execute_result"
    }
   ],
   "source": [
    "t4.index(4)"
   ]
  },
  {
   "cell_type": "code",
   "execution_count": 28,
   "id": "31080ae4-b60e-4bdb-a158-34ab4f29f402",
   "metadata": {},
   "outputs": [
    {
     "data": {
      "text/plain": [
       "(45, 83, 22, 12)"
      ]
     },
     "execution_count": 28,
     "metadata": {},
     "output_type": "execute_result"
    }
   ],
   "source": [
    "t5=(45,83,22,12)\n",
    "t5"
   ]
  },
  {
   "cell_type": "code",
   "execution_count": 29,
   "id": "015f6131-700c-4b5f-b545-eb6bdac3787a",
   "metadata": {},
   "outputs": [
    {
     "data": {
      "text/plain": [
       "[12, 22, 45, 83]"
      ]
     },
     "execution_count": 29,
     "metadata": {},
     "output_type": "execute_result"
    }
   ],
   "source": [
    "sorted(t5)"
   ]
  },
  {
   "cell_type": "code",
   "execution_count": 30,
   "id": "2fe52e6f-1495-472c-8560-176d5b6bd1f6",
   "metadata": {},
   "outputs": [
    {
     "data": {
      "text/plain": [
       "[83, 45, 22, 12]"
      ]
     },
     "execution_count": 30,
     "metadata": {},
     "output_type": "execute_result"
    }
   ],
   "source": [
    "sorted(t5,reverse=True)"
   ]
  },
  {
   "cell_type": "code",
   "execution_count": 1,
   "id": "fe08f40d-99d5-440f-9b60-18622bea9e72",
   "metadata": {},
   "outputs": [
    {
     "data": {
      "text/plain": [
       "{}"
      ]
     },
     "execution_count": 1,
     "metadata": {},
     "output_type": "execute_result"
    }
   ],
   "source": [
    "s={}\n",
    "s"
   ]
  },
  {
   "cell_type": "code",
   "execution_count": 2,
   "id": "57a84db6-3258-4541-b472-74bbc1a63b35",
   "metadata": {},
   "outputs": [
    {
     "data": {
      "text/plain": [
       "dict"
      ]
     },
     "execution_count": 2,
     "metadata": {},
     "output_type": "execute_result"
    }
   ],
   "source": [
    "type(s)"
   ]
  },
  {
   "cell_type": "code",
   "execution_count": 5,
   "id": "d18f5630-ddff-4c27-b950-8fc228604e4f",
   "metadata": {},
   "outputs": [
    {
     "data": {
      "text/plain": [
       "{10, 20, 30}"
      ]
     },
     "execution_count": 5,
     "metadata": {},
     "output_type": "execute_result"
    }
   ],
   "source": [
    "s=set()\n",
    "s.add(10)\n",
    "s.add(20)\n",
    "s.add(30)\n",
    "s"
   ]
  },
  {
   "cell_type": "code",
   "execution_count": 6,
   "id": "e72ec162-b07f-45b7-99d0-6ff490858c9f",
   "metadata": {},
   "outputs": [
    {
     "data": {
      "text/plain": [
       "{10, 20, 30}"
      ]
     },
     "execution_count": 6,
     "metadata": {},
     "output_type": "execute_result"
    }
   ],
   "source": [
    "s1=s.copy()\n",
    "s1"
   ]
  },
  {
   "cell_type": "code",
   "execution_count": 7,
   "id": "02c97ccf-ab13-4c3e-b716-462b105c4330",
   "metadata": {},
   "outputs": [
    {
     "data": {
      "text/plain": [
       "set()"
      ]
     },
     "execution_count": 7,
     "metadata": {},
     "output_type": "execute_result"
    }
   ],
   "source": [
    "s2=set()\n",
    "s2"
   ]
  },
  {
   "cell_type": "code",
   "execution_count": 8,
   "id": "a20ee9ba-aa69-470c-88ca-335f692197a7",
   "metadata": {},
   "outputs": [
    {
     "data": {
      "text/plain": [
       "{(2+5j), 20, True, 'nit'}"
      ]
     },
     "execution_count": 8,
     "metadata": {},
     "output_type": "execute_result"
    }
   ],
   "source": [
    "s2.add(20)\n",
    "s2.add(True)\n",
    "s2.add(2+5j)\n",
    "s2.add(\"nit\")\n",
    "s2"
   ]
  },
  {
   "cell_type": "code",
   "execution_count": 11,
   "id": "32299519-1093-4226-9a85-4277db0c632b",
   "metadata": {},
   "outputs": [
    {
     "data": {
      "text/plain": [
       "False"
      ]
     },
     "execution_count": 11,
     "metadata": {},
     "output_type": "execute_result"
    }
   ],
   "source": [
    "id(s1)==id(s2)"
   ]
  },
  {
   "cell_type": "code",
   "execution_count": 12,
   "id": "a2286f43-7a6a-47b7-b643-9fc81a16c01d",
   "metadata": {},
   "outputs": [
    {
     "name": "stdout",
     "output_type": "stream",
     "text": [
      "{10, 20, 30}\n",
      "{10, 20, 30}\n",
      "{(2+5j), True, 20, 'nit'}\n"
     ]
    }
   ],
   "source": [
    "print(s)\n",
    "print(s1)\n",
    "print(s2)"
   ]
  },
  {
   "cell_type": "code",
   "execution_count": 13,
   "id": "32b05997-50f7-48d6-aeb4-7fba246be603",
   "metadata": {},
   "outputs": [
    {
     "data": {
      "text/plain": [
       "{20, True, 'nit'}"
      ]
     },
     "execution_count": 13,
     "metadata": {},
     "output_type": "execute_result"
    }
   ],
   "source": [
    "s2.pop()\n",
    "s2"
   ]
  },
  {
   "cell_type": "code",
   "execution_count": 16,
   "id": "11867edc-3f41-489e-80f0-83f3a7f64f49",
   "metadata": {},
   "outputs": [
    {
     "data": {
      "text/plain": [
       "{20, 30}"
      ]
     },
     "execution_count": 16,
     "metadata": {},
     "output_type": "execute_result"
    }
   ],
   "source": [
    "s1.remove(10)\n",
    "s1"
   ]
  },
  {
   "cell_type": "code",
   "execution_count": 17,
   "id": "940bc4f6-d999-4e65-928a-5c0da96157c8",
   "metadata": {},
   "outputs": [
    {
     "data": {
      "text/plain": [
       "{30}"
      ]
     },
     "execution_count": 17,
     "metadata": {},
     "output_type": "execute_result"
    }
   ],
   "source": [
    "s1.discard(20)\n",
    "s1"
   ]
  },
  {
   "cell_type": "code",
   "execution_count": 19,
   "id": "ef93465b-b989-4220-b7c5-e6b9e93f0644",
   "metadata": {},
   "outputs": [
    {
     "ename": "SyntaxError",
     "evalue": "invalid syntax (2946581910.py, line 1)",
     "output_type": "error",
     "traceback": [
      "\u001b[1;36m  Cell \u001b[1;32mIn[19], line 1\u001b[1;36m\u001b[0m\n\u001b[1;33m    for in in s:\u001b[0m\n\u001b[1;37m        ^\u001b[0m\n\u001b[1;31mSyntaxError\u001b[0m\u001b[1;31m:\u001b[0m invalid syntax\n"
     ]
    }
   ],
   "source": [
    "for in in s:\n",
    "print(i)"
   ]
  },
  {
   "cell_type": "code",
   "execution_count": 1,
   "id": "897ed60b-98b1-40b0-ae89-1c0a723f0175",
   "metadata": {},
   "outputs": [
    {
     "ename": "SyntaxError",
     "evalue": "expected ':' (1271435465.py, line 1)",
     "output_type": "error",
     "traceback": [
      "\u001b[1;36m  Cell \u001b[1;32mIn[1], line 1\u001b[1;36m\u001b[0m\n\u001b[1;33m    for i in enumerate(s)\u001b[0m\n\u001b[1;37m                         ^\u001b[0m\n\u001b[1;31mSyntaxError\u001b[0m\u001b[1;31m:\u001b[0m expected ':'\n"
     ]
    }
   ],
   "source": [
    "for i in enumerate(s)"
   ]
  },
  {
   "cell_type": "code",
   "execution_count": 4,
   "id": "78476b1e-475f-4c54-8365-8ca9e6dfeaa8",
   "metadata": {},
   "outputs": [
    {
     "name": "stdout",
     "output_type": "stream",
     "text": [
      "{1, 2, 3, 4, 5}\n",
      "{8, 5, 6, 7}\n",
      "{8, 9, 10}\n"
     ]
    }
   ],
   "source": [
    "a={1,2,3,4,5}\n",
    "b={5,6,7,8}\n",
    "c={8,9,10}\n",
    "print(a)\n",
    "print(b)\n",
    "print(c)"
   ]
  },
  {
   "cell_type": "code",
   "execution_count": 5,
   "id": "d60ea432-04e6-4036-90a5-4c50ac03e249",
   "metadata": {},
   "outputs": [
    {
     "data": {
      "text/plain": [
       "{1, 2, 3, 4, 5, 8, 9, 10}"
      ]
     },
     "execution_count": 5,
     "metadata": {},
     "output_type": "execute_result"
    }
   ],
   "source": [
    "a.union(c)"
   ]
  },
  {
   "cell_type": "code",
   "execution_count": 6,
   "id": "8418a59b-2f12-467c-8b05-cd9bd537ff1f",
   "metadata": {},
   "outputs": [
    {
     "data": {
      "text/plain": [
       "{1, 2, 3, 4, 5, 6, 7, 8}"
      ]
     },
     "execution_count": 6,
     "metadata": {},
     "output_type": "execute_result"
    }
   ],
   "source": [
    "a.union(b)"
   ]
  },
  {
   "cell_type": "code",
   "execution_count": 7,
   "id": "ec7a6bec-6cae-4924-b5ad-84b848bcc680",
   "metadata": {},
   "outputs": [
    {
     "data": {
      "text/plain": [
       "{1, 2, 3, 4}"
      ]
     },
     "execution_count": 7,
     "metadata": {},
     "output_type": "execute_result"
    }
   ],
   "source": [
    "a.difference(b)"
   ]
  },
  {
   "cell_type": "code",
   "execution_count": 8,
   "id": "47461abd-15e6-42d9-9d37-255cec88b44d",
   "metadata": {},
   "outputs": [
    {
     "data": {
      "text/plain": [
       "{5, 6, 7}"
      ]
     },
     "execution_count": 8,
     "metadata": {},
     "output_type": "execute_result"
    }
   ],
   "source": [
    "b.difference(c)"
   ]
  },
  {
   "cell_type": "code",
   "execution_count": 9,
   "id": "de2f8745-53be-42d6-8bcc-88de0648428e",
   "metadata": {},
   "outputs": [],
   "source": [
    "c.difference_update(a)"
   ]
  },
  {
   "cell_type": "code",
   "execution_count": 10,
   "id": "a4b8f795-a17b-45f1-b6e8-c735832420f7",
   "metadata": {},
   "outputs": [
    {
     "data": {
      "text/plain": [
       "{1, 2, 3, 4, 5, 6, 7, 8}"
      ]
     },
     "execution_count": 10,
     "metadata": {},
     "output_type": "execute_result"
    }
   ],
   "source": [
    "a|b"
   ]
  },
  {
   "cell_type": "code",
   "execution_count": 11,
   "id": "edc42a3a-8df5-4c2f-8320-147d05786114",
   "metadata": {},
   "outputs": [
    {
     "data": {
      "text/plain": [
       "{5, 6, 7, 8, 9, 10}"
      ]
     },
     "execution_count": 11,
     "metadata": {},
     "output_type": "execute_result"
    }
   ],
   "source": [
    "b|c"
   ]
  },
  {
   "cell_type": "code",
   "execution_count": 12,
   "id": "2b253ff3-1705-49b7-8edb-045115534400",
   "metadata": {},
   "outputs": [
    {
     "data": {
      "text/plain": [
       "{1, 2, 3, 4, 5, 8, 9, 10}"
      ]
     },
     "execution_count": 12,
     "metadata": {},
     "output_type": "execute_result"
    }
   ],
   "source": [
    "a|c"
   ]
  },
  {
   "cell_type": "code",
   "execution_count": 2,
   "id": "61f1ede8-e212-4865-bb44-f8271c5d70c0",
   "metadata": {},
   "outputs": [
    {
     "ename": "NameError",
     "evalue": "name 'a' is not defined",
     "output_type": "error",
     "traceback": [
      "\u001b[1;31m---------------------------------------------------------------------------\u001b[0m",
      "\u001b[1;31mNameError\u001b[0m                                 Traceback (most recent call last)",
      "Cell \u001b[1;32mIn[2], line 1\u001b[0m\n\u001b[1;32m----> 1\u001b[0m \u001b[38;5;28mprint\u001b[39m(a)\n\u001b[0;32m      2\u001b[0m \u001b[38;5;28mprint\u001b[39m(b)\n\u001b[0;32m      3\u001b[0m \u001b[38;5;28mprint\u001b[39m(c)\n",
      "\u001b[1;31mNameError\u001b[0m: name 'a' is not defined"
     ]
    }
   ],
   "source": []
  },
  {
   "cell_type": "code",
   "execution_count": 4,
   "id": "1ff85c62-dbc7-45d8-b9b1-d359a6be0571",
   "metadata": {},
   "outputs": [
    {
     "name": "stdout",
     "output_type": "stream",
     "text": [
      "{16, 12, 13, 14, 15}\n",
      "{16, 17, 15}\n",
      "{18, 19, 20}\n"
     ]
    }
   ],
   "source": [
    "A={12,13,14,15,16}\n",
    "B={15,16,17,}\n",
    "C={18,19,20}\n",
    "print(A)\n",
    "print(B)\n",
    "print(C)"
   ]
  },
  {
   "cell_type": "code",
   "execution_count": 5,
   "id": "efd63242-9151-4f3b-862b-0102763c24f2",
   "metadata": {},
   "outputs": [
    {
     "data": {
      "text/plain": [
       "{15, 16, 17, 18, 19, 20}"
      ]
     },
     "execution_count": 5,
     "metadata": {},
     "output_type": "execute_result"
    }
   ],
   "source": [
    "C|B"
   ]
  },
  {
   "cell_type": "code",
   "execution_count": 6,
   "id": "f36e07ac-38b7-4879-b7ca-1d0268dda451",
   "metadata": {},
   "outputs": [
    {
     "data": {
      "text/plain": [
       "{12, 13, 14, 15, 16, 17}"
      ]
     },
     "execution_count": 6,
     "metadata": {},
     "output_type": "execute_result"
    }
   ],
   "source": [
    "A|B"
   ]
  },
  {
   "cell_type": "code",
   "execution_count": 8,
   "id": "3efcccfe-cd0b-4ab9-91e7-ebd586763667",
   "metadata": {},
   "outputs": [
    {
     "data": {
      "text/plain": [
       "{15, 16}"
      ]
     },
     "execution_count": 8,
     "metadata": {},
     "output_type": "execute_result"
    }
   ],
   "source": [
    "A.intersection(B)"
   ]
  },
  {
   "cell_type": "code",
   "execution_count": 10,
   "id": "4be0ddef-fe0f-46f0-ac16-160ed13baffc",
   "metadata": {},
   "outputs": [],
   "source": [
    "A.intersection_update(C)"
   ]
  },
  {
   "cell_type": "code",
   "execution_count": 11,
   "id": "6aa0d41c-98f0-4140-ac04-e8e112bd0b27",
   "metadata": {},
   "outputs": [],
   "source": [
    "B.intersection_update(C)"
   ]
  },
  {
   "cell_type": "code",
   "execution_count": 14,
   "id": "e6fd4174-a2be-4662-89c6-4e5c6b10f5ce",
   "metadata": {},
   "outputs": [
    {
     "data": {
      "text/plain": [
       "{1, 2, 3, 6, 7, 8}"
      ]
     },
     "execution_count": 14,
     "metadata": {},
     "output_type": "execute_result"
    }
   ],
   "source": [
    "A={1,2,3,4,5}\n",
    "B={4,5,6,7,8}\n",
    "A^B"
   ]
  },
  {
   "cell_type": "code",
   "execution_count": 16,
   "id": "b8c0d83e-fcb6-4051-85b2-aa865a0ea544",
   "metadata": {},
   "outputs": [
    {
     "data": {
      "text/plain": [
       "{1, 2, 3, 6, 7, 8}"
      ]
     },
     "execution_count": 16,
     "metadata": {},
     "output_type": "execute_result"
    }
   ],
   "source": [
    "A.symmetric_difference(B)"
   ]
  },
  {
   "cell_type": "code",
   "execution_count": 17,
   "id": "711f9b14-3372-4f83-b495-5979046568aa",
   "metadata": {},
   "outputs": [
    {
     "data": {
      "text/plain": [
       "False"
      ]
     },
     "execution_count": 17,
     "metadata": {},
     "output_type": "execute_result"
    }
   ],
   "source": [
    "A.isdisjoint(B)"
   ]
  },
  {
   "cell_type": "code",
   "execution_count": 18,
   "id": "a5e5a52e-a168-4324-9f87-82471397011d",
   "metadata": {},
   "outputs": [
    {
     "data": {
      "text/plain": [
       "False"
      ]
     },
     "execution_count": 18,
     "metadata": {},
     "output_type": "execute_result"
    }
   ],
   "source": [
    "B.isdisjoint(A)"
   ]
  },
  {
   "cell_type": "code",
   "execution_count": 19,
   "id": "4984b2ea-1931-40dd-be6b-15c3cce795b1",
   "metadata": {},
   "outputs": [
    {
     "data": {
      "text/plain": [
       "False"
      ]
     },
     "execution_count": 19,
     "metadata": {},
     "output_type": "execute_result"
    }
   ],
   "source": [
    "A.issubset(B)"
   ]
  },
  {
   "cell_type": "code",
   "execution_count": 20,
   "id": "771c131e-ab0c-4657-8293-329dd48722b1",
   "metadata": {},
   "outputs": [
    {
     "data": {
      "text/plain": [
       "{1: 'one', 2: 'two', 3: 'three'}"
      ]
     },
     "execution_count": 20,
     "metadata": {},
     "output_type": "execute_result"
    }
   ],
   "source": [
    "mydict={1:\"one\",2:\"two\",3:\"three\"}\n",
    "mydict"
   ]
  },
  {
   "cell_type": "code",
   "execution_count": 21,
   "id": "58ea20cd-1447-4d75-a12f-5084436d2265",
   "metadata": {},
   "outputs": [
    {
     "data": {
      "text/plain": [
       "dict_keys([1, 2, 3])"
      ]
     },
     "execution_count": 21,
     "metadata": {},
     "output_type": "execute_result"
    }
   ],
   "source": [
    "mydict.keys()"
   ]
  },
  {
   "cell_type": "code",
   "execution_count": 22,
   "id": "180d5fb3-3baf-48b1-873b-77cc14464236",
   "metadata": {},
   "outputs": [
    {
     "data": {
      "text/plain": [
       "dict_values(['one', 'two', 'three'])"
      ]
     },
     "execution_count": 22,
     "metadata": {},
     "output_type": "execute_result"
    }
   ],
   "source": [
    "mydict.values()"
   ]
  },
  {
   "cell_type": "code",
   "execution_count": 23,
   "id": "bf76e739-1b5a-4a30-8d39-c716599096bf",
   "metadata": {},
   "outputs": [
    {
     "data": {
      "text/plain": [
       "'one'"
      ]
     },
     "execution_count": 23,
     "metadata": {},
     "output_type": "execute_result"
    }
   ],
   "source": [
    "mydict[1]"
   ]
  },
  {
   "cell_type": "code",
   "execution_count": 26,
   "id": "3ed5b1ca-92fd-41bb-947b-cfc90849e2a3",
   "metadata": {},
   "outputs": [
    {
     "data": {
      "text/plain": [
       "{2: 'two', 3: 'three'}"
      ]
     },
     "execution_count": 26,
     "metadata": {},
     "output_type": "execute_result"
    }
   ],
   "source": [
    "mydict.pop(1)\n",
    "mydict"
   ]
  },
  {
   "cell_type": "code",
   "execution_count": 27,
   "id": "e48cc851-5682-4007-b03b-1f5de137db66",
   "metadata": {},
   "outputs": [
    {
     "data": {
      "text/plain": [
       "{}"
      ]
     },
     "execution_count": 27,
     "metadata": {},
     "output_type": "execute_result"
    }
   ],
   "source": [
    "mydict.clear()\n",
    "mydict"
   ]
  },
  {
   "cell_type": "code",
   "execution_count": 32,
   "id": "525c3cae-b0c2-4271-a98c-d1d69853611c",
   "metadata": {},
   "outputs": [
    {
     "data": {
      "text/plain": [
       "{'name': 'ayra', 'age': 'one'}"
      ]
     },
     "execution_count": 32,
     "metadata": {},
     "output_type": "execute_result"
    }
   ],
   "source": [
    "mydict1={\"name\":\"ayra\",\"age\":\"one\"}\n",
    "mydict1"
   ]
  },
  {
   "cell_type": "code",
   "execution_count": 33,
   "id": "3b43e29e-1390-41c4-972c-cbd54ab2a7bc",
   "metadata": {},
   "outputs": [
    {
     "ename": "SyntaxError",
     "evalue": "closing parenthesis '}' does not match opening parenthesis '(' (2207276402.py, line 2)",
     "output_type": "error",
     "traceback": [
      "\u001b[1;36m  Cell \u001b[1;32mIn[33], line 2\u001b[1;36m\u001b[0m\n\u001b[1;33m    print(mydict1[i]})\u001b[0m\n\u001b[1;37m                    ^\u001b[0m\n\u001b[1;31mSyntaxError\u001b[0m\u001b[1;31m:\u001b[0m closing parenthesis '}' does not match opening parenthesis '('\n"
     ]
    }
   ],
   "source": [
    "for i in mydict1:\n",
    "print(mydict1[i]})"
   ]
  },
  {
   "cell_type": "code",
   "execution_count": 34,
   "id": "cfc5fd4f-2031-4c6b-907d-16979e5cbfee",
   "metadata": {},
   "outputs": [
    {
     "data": {
      "text/plain": [
       "True"
      ]
     },
     "execution_count": 34,
     "metadata": {},
     "output_type": "execute_result"
    }
   ],
   "source": [
    "all(mydict1)"
   ]
  },
  {
   "cell_type": "code",
   "execution_count": 35,
   "id": "f37a5875-dc6e-422a-ab86-6d93d2ef2a51",
   "metadata": {},
   "outputs": [
    {
     "data": {
      "text/plain": [
       "True"
      ]
     },
     "execution_count": 35,
     "metadata": {},
     "output_type": "execute_result"
    }
   ],
   "source": [
    "any(mydict1)"
   ]
  },
  {
   "cell_type": "code",
   "execution_count": null,
   "id": "ae89f547-50a2-40cf-adfe-e0bb914c851c",
   "metadata": {},
   "outputs": [],
   "source": []
  }
 ],
 "metadata": {
  "kernelspec": {
   "display_name": "Python [conda env:base] *",
   "language": "python",
   "name": "conda-base-py"
  },
  "language_info": {
   "codemirror_mode": {
    "name": "ipython",
    "version": 3
   },
   "file_extension": ".py",
   "mimetype": "text/x-python",
   "name": "python",
   "nbconvert_exporter": "python",
   "pygments_lexer": "ipython3",
   "version": "3.12.7"
  }
 },
 "nbformat": 4,
 "nbformat_minor": 5
}
