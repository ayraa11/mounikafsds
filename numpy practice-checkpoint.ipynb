{
 "cells": [
  {
   "cell_type": "code",
   "execution_count": 1,
   "id": "f8eee951-9561-443d-bbd6-a4a256e2eda7",
   "metadata": {},
   "outputs": [
    {
     "data": {
      "text/plain": [
       "'3.12.7 | packaged by Anaconda, Inc. | (main, Oct  4 2024, 13:17:27) [MSC v.1929 64 bit (AMD64)]'"
      ]
     },
     "execution_count": 1,
     "metadata": {},
     "output_type": "execute_result"
    }
   ],
   "source": [
    "import sys\n",
    "sys.version"
   ]
  },
  {
   "cell_type": "code",
   "execution_count": 2,
   "id": "267e537e-671e-4ef4-bef1-337c17b8a62d",
   "metadata": {},
   "outputs": [],
   "source": [
    "import numpy as np"
   ]
  },
  {
   "cell_type": "code",
   "execution_count": 7,
   "id": "077fa638-ce25-44b4-a4c3-6c4253613f72",
   "metadata": {},
   "outputs": [
    {
     "data": {
      "text/plain": [
       "[0, 1, 2, 3, 4, 5]"
      ]
     },
     "execution_count": 7,
     "metadata": {},
     "output_type": "execute_result"
    }
   ],
   "source": [
    "list=[0,1,2,3,4,5]\n",
    "list"
   ]
  },
  {
   "cell_type": "code",
   "execution_count": 8,
   "id": "ed8afefe-5c05-4a09-9ee0-703bc766db11",
   "metadata": {},
   "outputs": [
    {
     "data": {
      "text/plain": [
       "list"
      ]
     },
     "execution_count": 8,
     "metadata": {},
     "output_type": "execute_result"
    }
   ],
   "source": [
    "type(list)"
   ]
  },
  {
   "cell_type": "code",
   "execution_count": 9,
   "id": "97c23c4a-4b19-4d19-a33b-743776164acc",
   "metadata": {},
   "outputs": [
    {
     "data": {
      "text/plain": [
       "array([0, 1, 2, 3, 4, 5])"
      ]
     },
     "execution_count": 9,
     "metadata": {},
     "output_type": "execute_result"
    }
   ],
   "source": [
    "arr=np.array(list)\n",
    "arr"
   ]
  },
  {
   "cell_type": "code",
   "execution_count": 11,
   "id": "4a147c14-4c4c-445f-8737-4e500674f5f6",
   "metadata": {},
   "outputs": [
    {
     "name": "stdout",
     "output_type": "stream",
     "text": [
      "<class 'numpy.ndarray'>\n",
      "<class 'list'>\n"
     ]
    }
   ],
   "source": [
    "print(type(arr))\n",
    "print(type(list))"
   ]
  },
  {
   "cell_type": "code",
   "execution_count": 13,
   "id": "03f7819d-6246-4efc-8c0d-acc1b2b6112c",
   "metadata": {},
   "outputs": [
    {
     "data": {
      "text/plain": [
       "array([0, 1, 2, 3, 4, 5, 6, 7, 8, 9])"
      ]
     },
     "execution_count": 13,
     "metadata": {},
     "output_type": "execute_result"
    }
   ],
   "source": [
    "np.arange(10)"
   ]
  },
  {
   "cell_type": "code",
   "execution_count": 14,
   "id": "d74adb5b-2171-465b-9c43-4b511f8cb19b",
   "metadata": {},
   "outputs": [
    {
     "data": {
      "text/plain": [
       "array([10, 11, 12, 13, 14, 15, 16, 17, 18, 19])"
      ]
     },
     "execution_count": 14,
     "metadata": {},
     "output_type": "execute_result"
    }
   ],
   "source": [
    "np.arange(10,20)"
   ]
  },
  {
   "cell_type": "code",
   "execution_count": 15,
   "id": "3410c668-6bb0-45d5-90cc-5b2aaf79581f",
   "metadata": {},
   "outputs": [
    {
     "data": {
      "text/plain": [
       "array([10, 15, 20, 25, 30, 35, 40, 45])"
      ]
     },
     "execution_count": 15,
     "metadata": {},
     "output_type": "execute_result"
    }
   ],
   "source": [
    "np.arange(10,50,5)"
   ]
  },
  {
   "cell_type": "code",
   "execution_count": 16,
   "id": "9ace9135-655c-42bd-b03b-1586f2355736",
   "metadata": {},
   "outputs": [
    {
     "data": {
      "text/plain": [
       "array([], dtype=int32)"
      ]
     },
     "execution_count": 16,
     "metadata": {},
     "output_type": "execute_result"
    }
   ],
   "source": [
    "np.arange(7,3)"
   ]
  },
  {
   "cell_type": "code",
   "execution_count": 17,
   "id": "43d7c310-fcc1-4735-90a7-0cbc22d7e17e",
   "metadata": {},
   "outputs": [
    {
     "data": {
      "text/plain": [
       "array([-2, -1,  0,  1,  2,  3,  4,  5,  6,  7])"
      ]
     },
     "execution_count": 17,
     "metadata": {},
     "output_type": "execute_result"
    }
   ],
   "source": [
    "np.arange(-2,8)"
   ]
  },
  {
   "cell_type": "code",
   "execution_count": 18,
   "id": "e13d06b4-b8f2-44cb-af86-ec96911181d4",
   "metadata": {},
   "outputs": [
    {
     "data": {
      "text/plain": [
       "array([0., 0., 0.])"
      ]
     },
     "execution_count": 18,
     "metadata": {},
     "output_type": "execute_result"
    }
   ],
   "source": [
    "np.zeros(3)"
   ]
  },
  {
   "cell_type": "code",
   "execution_count": 21,
   "id": "28e6b733-90c2-47c7-a89d-b79367a86c8e",
   "metadata": {},
   "outputs": [
    {
     "data": {
      "text/plain": [
       "array([0, 0, 0, 0])"
      ]
     },
     "execution_count": 21,
     "metadata": {},
     "output_type": "execute_result"
    }
   ],
   "source": [
    "np.zeros(4,dtype=int)"
   ]
  },
  {
   "cell_type": "code",
   "execution_count": 23,
   "id": "6cdfb3b9-8a9f-4cd6-8264-912e08769b6a",
   "metadata": {},
   "outputs": [
    {
     "data": {
      "text/plain": [
       "array([[0, 0, 0, 0],\n",
       "       [0, 0, 0, 0],\n",
       "       [0, 0, 0, 0],\n",
       "       [0, 0, 0, 0]])"
      ]
     },
     "execution_count": 23,
     "metadata": {},
     "output_type": "execute_result"
    }
   ],
   "source": [
    "np.zeros((4,4),dtype=int)"
   ]
  },
  {
   "cell_type": "code",
   "execution_count": 24,
   "id": "0dc0c9c2-6837-45e2-87de-b638e82474b2",
   "metadata": {},
   "outputs": [
    {
     "data": {
      "text/plain": [
       "array([[1, 1, 1, 1, 1, 1, 1, 1],\n",
       "       [1, 1, 1, 1, 1, 1, 1, 1],\n",
       "       [1, 1, 1, 1, 1, 1, 1, 1]])"
      ]
     },
     "execution_count": 24,
     "metadata": {},
     "output_type": "execute_result"
    }
   ],
   "source": [
    "nd=np.ones((3,8),dtype=int)\n",
    "nd"
   ]
  },
  {
   "cell_type": "raw",
   "id": "a1bf2573-b66b-42c9-9b97-018dc0274efd",
   "metadata": {},
   "source": [
    "range(4)"
   ]
  },
  {
   "cell_type": "code",
   "execution_count": 25,
   "id": "e32819ac-3a45-492c-9ab4-32167ca0c8bb",
   "metadata": {},
   "outputs": [
    {
     "data": {
      "text/plain": [
       "range(0, 5)"
      ]
     },
     "execution_count": 25,
     "metadata": {},
     "output_type": "execute_result"
    }
   ],
   "source": [
    "r=range(5)\n",
    "r"
   ]
  },
  {
   "cell_type": "code",
   "execution_count": 2,
   "id": "3a7bd3d1-febc-41d2-9ba2-049a53f4aa2d",
   "metadata": {},
   "outputs": [
    {
     "ename": "NameError",
     "evalue": "name 'rand' is not defined",
     "output_type": "error",
     "traceback": [
      "\u001b[1;31m---------------------------------------------------------------------------\u001b[0m",
      "\u001b[1;31mNameError\u001b[0m                                 Traceback (most recent call last)",
      "Cell \u001b[1;32mIn[2], line 1\u001b[0m\n\u001b[1;32m----> 1\u001b[0m rand(\u001b[38;5;241m3\u001b[39m,\u001b[38;5;241m2\u001b[39m)\n",
      "\u001b[1;31mNameError\u001b[0m: name 'rand' is not defined"
     ]
    }
   ],
   "source": [
    "rand(3,2)"
   ]
  },
  {
   "cell_type": "code",
   "execution_count": 3,
   "id": "ae83d9dc-1490-43fa-8541-754f57dd6161",
   "metadata": {},
   "outputs": [
    {
     "ename": "NameError",
     "evalue": "name 'np' is not defined",
     "output_type": "error",
     "traceback": [
      "\u001b[1;31m---------------------------------------------------------------------------\u001b[0m",
      "\u001b[1;31mNameError\u001b[0m                                 Traceback (most recent call last)",
      "Cell \u001b[1;32mIn[3], line 1\u001b[0m\n\u001b[1;32m----> 1\u001b[0m np\u001b[38;5;241m.\u001b[39mrandom\u001b[38;5;241m.\u001b[39mrand(\u001b[38;5;241m4\u001b[39m)\n",
      "\u001b[1;31mNameError\u001b[0m: name 'np' is not defined"
     ]
    }
   ],
   "source": [
    "np.random.rand(4)"
   ]
  },
  {
   "cell_type": "code",
   "execution_count": 4,
   "id": "c74a416c-ae2d-4e24-a775-649321fca6b2",
   "metadata": {},
   "outputs": [
    {
     "ename": "NameError",
     "evalue": "name 'np' is not defined",
     "output_type": "error",
     "traceback": [
      "\u001b[1;31m---------------------------------------------------------------------------\u001b[0m",
      "\u001b[1;31mNameError\u001b[0m                                 Traceback (most recent call last)",
      "Cell \u001b[1;32mIn[4], line 1\u001b[0m\n\u001b[1;32m----> 1\u001b[0m np\u001b[38;5;241m.\u001b[39mrand(\u001b[38;5;241m4\u001b[39m)\n",
      "\u001b[1;31mNameError\u001b[0m: name 'np' is not defined"
     ]
    }
   ],
   "source": []
  },
  {
   "cell_type": "code",
   "execution_count": 5,
   "id": "c82b8833-d769-4899-bed7-ca0f418f73d3",
   "metadata": {},
   "outputs": [],
   "source": [
    "import numpy as np"
   ]
  },
  {
   "cell_type": "code",
   "execution_count": 6,
   "id": "66b87d9f-49e0-4077-89b2-4798294abc91",
   "metadata": {},
   "outputs": [
    {
     "data": {
      "text/plain": [
       "2"
      ]
     },
     "execution_count": 6,
     "metadata": {},
     "output_type": "execute_result"
    }
   ],
   "source": [
    "np.random.randint(2,4)"
   ]
  },
  {
   "cell_type": "code",
   "execution_count": 7,
   "id": "c65d9b59-f24c-441d-995c-b2f23978345b",
   "metadata": {},
   "outputs": [
    {
     "data": {
      "text/plain": [
       "9"
      ]
     },
     "execution_count": 7,
     "metadata": {},
     "output_type": "execute_result"
    }
   ],
   "source": [
    "np.random.randint(4,10)"
   ]
  },
  {
   "cell_type": "code",
   "execution_count": 8,
   "id": "c4889e3a-a86e-4683-8270-9389c306e7a9",
   "metadata": {},
   "outputs": [
    {
     "data": {
      "text/plain": [
       "array([58, 60, 57, 51, 63, 58, 59, 59, 61, 62, 61, 63, 51, 54, 62, 57, 57,\n",
       "       56, 52, 60, 62, 56, 58, 51, 51, 56, 59, 54, 64, 51, 58, 54, 53, 55,\n",
       "       51, 52, 56, 57, 62, 59, 60, 56, 62, 62, 59, 57, 54, 51, 57, 59, 51,\n",
       "       52, 51, 62, 52, 53, 59, 53, 62, 51, 57, 51, 62, 54, 60, 58, 59, 51,\n",
       "       52, 56, 58, 64, 53, 55, 55, 64, 54, 61])"
      ]
     },
     "execution_count": 8,
     "metadata": {},
     "output_type": "execute_result"
    }
   ],
   "source": [
    "np.random.randint(51,65,78)"
   ]
  },
  {
   "cell_type": "code",
   "execution_count": 9,
   "id": "d88f6664-dea1-4ea1-b1b2-e0414488498f",
   "metadata": {},
   "outputs": [
    {
     "data": {
      "text/plain": [
       "array([0.97767102, 0.93988988, 0.21282972, 0.30839778, 0.40250413,\n",
       "       0.50133751])"
      ]
     },
     "execution_count": 9,
     "metadata": {},
     "output_type": "execute_result"
    }
   ],
   "source": [
    "np.random.rand(6)"
   ]
  },
  {
   "cell_type": "code",
   "execution_count": 10,
   "id": "083125bf-6906-4c96-986f-f987924385dc",
   "metadata": {},
   "outputs": [
    {
     "ename": "ValueError",
     "evalue": "low >= high",
     "output_type": "error",
     "traceback": [
      "\u001b[1;31m---------------------------------------------------------------------------\u001b[0m",
      "\u001b[1;31mValueError\u001b[0m                                Traceback (most recent call last)",
      "Cell \u001b[1;32mIn[10], line 1\u001b[0m\n\u001b[1;32m----> 1\u001b[0m np\u001b[38;5;241m.\u001b[39mrandom\u001b[38;5;241m.\u001b[39mrandint(\u001b[38;5;241m30\u001b[39m,\u001b[38;5;241m27\u001b[39m,\u001b[38;5;241m18\u001b[39m)\n",
      "File \u001b[1;32mnumpy\\\\random\\\\mtrand.pyx:780\u001b[0m, in \u001b[0;36mnumpy.random.mtrand.RandomState.randint\u001b[1;34m()\u001b[0m\n",
      "File \u001b[1;32mnumpy\\\\random\\\\_bounded_integers.pyx:1425\u001b[0m, in \u001b[0;36mnumpy.random._bounded_integers._rand_int32\u001b[1;34m()\u001b[0m\n",
      "\u001b[1;31mValueError\u001b[0m: low >= high"
     ]
    }
   ],
   "source": [
    "np.random.randint(30,27,18)"
   ]
  },
  {
   "cell_type": "code",
   "execution_count": 11,
   "id": "9659f150-1890-462b-9dbd-ef2fd69807f3",
   "metadata": {},
   "outputs": [
    {
     "data": {
      "text/plain": [
       "array([29, 27, 16, 22, 22, 12, 11, 26, 18, 11, 26, 12, 21, 25, 22, 23, 11,\n",
       "       15, 10, 14, 20, 17, 22, 13, 10, 29, 27, 25, 29, 18, 28, 27, 20, 16,\n",
       "       14, 12, 20, 23, 20, 11, 26, 13, 28, 21, 14, 12, 10, 16, 11, 28, 10,\n",
       "       27, 28, 10, 22, 20, 20, 14, 21, 14, 10, 26, 10, 27, 13, 17, 13])"
      ]
     },
     "execution_count": 11,
     "metadata": {},
     "output_type": "execute_result"
    }
   ],
   "source": [
    "np.random.randint(10,30,67)"
   ]
  },
  {
   "cell_type": "code",
   "execution_count": 12,
   "id": "3be62cb0-daed-4bcc-95af-03f598411e81",
   "metadata": {},
   "outputs": [
    {
     "data": {
      "text/plain": [
       "array([  4,  -2,  21,  12, -10, -15,  26,  14, -20,  14,   3, -11, -15,\n",
       "        -2,  -4,  13, -20,  -8,  15,  -1,   6,  25, -15,  24, -19, -16,\n",
       "        28,  15,   8,   3,  -1, -11,  23,  -3,  12,   2, -13,  18,  -9,\n",
       "        21,  10,   3,  13,   0,   2, -14, -20,  -9,  22,  -5, -14, -10,\n",
       "        25,  17,  -6,  21,  21,   1,  15,  -6])"
      ]
     },
     "execution_count": 12,
     "metadata": {},
     "output_type": "execute_result"
    }
   ],
   "source": [
    "np.random.randint(-20,30,60)"
   ]
  },
  {
   "cell_type": "code",
   "execution_count": 13,
   "id": "bd507a35-ed6b-44db-8a34-ecca788b4bcd",
   "metadata": {},
   "outputs": [
    {
     "data": {
      "text/plain": [
       "array([[24, 27, 37, 20, 27],\n",
       "       [21, 22, 24, 25, 33],\n",
       "       [20, 27, 33, 39, 23],\n",
       "       [26, 39, 21, 23, 20],\n",
       "       [35, 30, 34, 22, 34]])"
      ]
     },
     "execution_count": 13,
     "metadata": {},
     "output_type": "execute_result"
    }
   ],
   "source": [
    "np.random.randint(20,40,(5,5))"
   ]
  },
  {
   "cell_type": "code",
   "execution_count": 16,
   "id": "041598a0-d61e-4773-91a5-c841c9fe8965",
   "metadata": {},
   "outputs": [
    {
     "data": {
      "text/plain": [
       "array([[ 1,  2,  3,  4],\n",
       "       [ 5,  6,  7,  8],\n",
       "       [ 9, 10, 11, 12]])"
      ]
     },
     "execution_count": 16,
     "metadata": {},
     "output_type": "execute_result"
    }
   ],
   "source": [
    "np.arange(1,13).reshape(3,4)"
   ]
  },
  {
   "cell_type": "code",
   "execution_count": 17,
   "id": "371144ca-ce33-4b56-834e-7542fca73fb8",
   "metadata": {},
   "outputs": [
    {
     "data": {
      "text/plain": [
       "array([[40, 41, 42, 43, 44],\n",
       "       [45, 46, 47, 48, 49],\n",
       "       [50, 51, 52, 53, 54],\n",
       "       [55, 56, 57, 58, 59],\n",
       "       [60, 61, 62, 63, 64]])"
      ]
     },
     "execution_count": 17,
     "metadata": {},
     "output_type": "execute_result"
    }
   ],
   "source": [
    "np.arange(40,65).reshape(5,5)"
   ]
  },
  {
   "cell_type": "code",
   "execution_count": 19,
   "id": "1766d910-bd51-44c6-a4b9-108423241ef1",
   "metadata": {},
   "outputs": [
    {
     "data": {
      "text/plain": [
       "array([[32, 22, 24, 33, 30, 32, 32],\n",
       "       [31, 22, 34, 26, 29, 24, 21],\n",
       "       [22, 29, 33, 27, 32, 22, 23],\n",
       "       [26, 28, 28, 23, 25, 33, 27],\n",
       "       [29, 25, 30, 24, 27, 29, 26]])"
      ]
     },
     "execution_count": 19,
     "metadata": {},
     "output_type": "execute_result"
    }
   ],
   "source": [
    "b=np.random.randint(20,35,(5,7))\n",
    "b"
   ]
  },
  {
   "cell_type": "code",
   "execution_count": 20,
   "id": "879070e8-9bd6-45e1-90c6-7cf4a8c507d5",
   "metadata": {},
   "outputs": [
    {
     "data": {
      "text/plain": [
       "numpy.ndarray"
      ]
     },
     "execution_count": 20,
     "metadata": {},
     "output_type": "execute_result"
    }
   ],
   "source": [
    "type(b)"
   ]
  },
  {
   "cell_type": "code",
   "execution_count": 21,
   "id": "89d9899e-9828-4bc6-91e8-012cf716877c",
   "metadata": {},
   "outputs": [
    {
     "data": {
      "text/plain": [
       "array([[32, 22, 24, 33, 30, 32, 32],\n",
       "       [31, 22, 34, 26, 29, 24, 21],\n",
       "       [22, 29, 33, 27, 32, 22, 23],\n",
       "       [26, 28, 28, 23, 25, 33, 27],\n",
       "       [29, 25, 30, 24, 27, 29, 26]])"
      ]
     },
     "execution_count": 21,
     "metadata": {},
     "output_type": "execute_result"
    }
   ],
   "source": [
    "b"
   ]
  },
  {
   "cell_type": "code",
   "execution_count": 22,
   "id": "e2391d02-cf87-44d6-a6b8-79e069ebe8a9",
   "metadata": {},
   "outputs": [
    {
     "data": {
      "text/plain": [
       "array([[32, 22, 24, 33, 30, 32, 32],\n",
       "       [31, 22, 34, 26, 29, 24, 21],\n",
       "       [22, 29, 33, 27, 32, 22, 23],\n",
       "       [26, 28, 28, 23, 25, 33, 27],\n",
       "       [29, 25, 30, 24, 27, 29, 26]])"
      ]
     },
     "execution_count": 22,
     "metadata": {},
     "output_type": "execute_result"
    }
   ],
   "source": [
    "b[:]"
   ]
  },
  {
   "cell_type": "code",
   "execution_count": 23,
   "id": "f8376165-1d88-470a-ad00-65eee6e9aad6",
   "metadata": {},
   "outputs": [
    {
     "data": {
      "text/plain": [
       "array([[22, 29, 33, 27, 32, 22, 23],\n",
       "       [26, 28, 28, 23, 25, 33, 27],\n",
       "       [29, 25, 30, 24, 27, 29, 26]])"
      ]
     },
     "execution_count": 23,
     "metadata": {},
     "output_type": "execute_result"
    }
   ],
   "source": [
    "b[2:5]"
   ]
  },
  {
   "cell_type": "code",
   "execution_count": 24,
   "id": "e3ca7f9f-697f-4c59-98e0-67d038657705",
   "metadata": {},
   "outputs": [
    {
     "data": {
      "text/plain": [
       "33"
      ]
     },
     "execution_count": 24,
     "metadata": {},
     "output_type": "execute_result"
    }
   ],
   "source": [
    "b[3,5]"
   ]
  },
  {
   "cell_type": "code",
   "execution_count": 25,
   "id": "7a1e7d04-0475-4e19-9b8c-c8512199a7f3",
   "metadata": {},
   "outputs": [
    {
     "data": {
      "text/plain": [
       "21"
      ]
     },
     "execution_count": 25,
     "metadata": {},
     "output_type": "execute_result"
    }
   ],
   "source": [
    "b[1,-1]"
   ]
  },
  {
   "cell_type": "code",
   "execution_count": 26,
   "id": "159b9ef0-5450-4509-ace9-7068bf3a5602",
   "metadata": {},
   "outputs": [
    {
     "data": {
      "text/plain": [
       "33"
      ]
     },
     "execution_count": 26,
     "metadata": {},
     "output_type": "execute_result"
    }
   ],
   "source": [
    "b[2,2]"
   ]
  },
  {
   "cell_type": "code",
   "execution_count": 30,
   "id": "064c4709-846b-48dd-bff9-99f432b7f4f2",
   "metadata": {},
   "outputs": [
    {
     "data": {
      "text/plain": [
       "array([[26, 28, 28, 23, 25, 33, 27],\n",
       "       [29, 25, 30, 24, 27, 29, 26]])"
      ]
     },
     "execution_count": 30,
     "metadata": {},
     "output_type": "execute_result"
    }
   ],
   "source": [
    "b[3:6]"
   ]
  },
  {
   "cell_type": "code",
   "execution_count": 31,
   "id": "dc66a15c-9d56-40dc-8bec-5863a1a8adb5",
   "metadata": {},
   "outputs": [
    {
     "data": {
      "text/plain": [
       "array([[32, 22, 24, 33, 30, 32, 32],\n",
       "       [31, 22, 34, 26, 29, 24, 21],\n",
       "       [22, 29, 33, 27, 32, 22, 23],\n",
       "       [26, 28, 28, 23, 25, 33, 27],\n",
       "       [29, 25, 30, 24, 27, 29, 26]])"
      ]
     },
     "execution_count": 31,
     "metadata": {},
     "output_type": "execute_result"
    }
   ],
   "source": [
    "b"
   ]
  },
  {
   "cell_type": "code",
   "execution_count": 34,
   "id": "2116f74a-bdac-418e-8213-81c8353eb173",
   "metadata": {},
   "outputs": [
    {
     "data": {
      "text/plain": [
       "23"
      ]
     },
     "execution_count": 34,
     "metadata": {},
     "output_type": "execute_result"
    }
   ],
   "source": [
    "b[-2,3]"
   ]
  },
  {
   "cell_type": "code",
   "execution_count": 35,
   "id": "ebcfdaa3-556f-435e-9c03-c1f717fda6fc",
   "metadata": {},
   "outputs": [
    {
     "data": {
      "text/plain": [
       "27"
      ]
     },
     "execution_count": 35,
     "metadata": {},
     "output_type": "execute_result"
    }
   ],
   "source": [
    "b[3,6]"
   ]
  },
  {
   "cell_type": "code",
   "execution_count": 36,
   "id": "c4af55cb-e518-4f24-9dca-3186078f1a0c",
   "metadata": {},
   "outputs": [
    {
     "data": {
      "text/plain": [
       "33"
      ]
     },
     "execution_count": 36,
     "metadata": {},
     "output_type": "execute_result"
    }
   ],
   "source": [
    "b[-3,-5]"
   ]
  },
  {
   "cell_type": "code",
   "execution_count": 41,
   "id": "d3e91915-7f87-42ec-9c9b-9c3ebe6e16df",
   "metadata": {},
   "outputs": [
    {
     "data": {
      "text/plain": [
       "array([], shape=(0, 7), dtype=int32)"
      ]
     },
     "execution_count": 41,
     "metadata": {},
     "output_type": "execute_result"
    }
   ],
   "source": [
    "b[-1:2]\n"
   ]
  },
  {
   "cell_type": "code",
   "execution_count": 42,
   "id": "9319ca59-f642-491b-ae54-192972d92b18",
   "metadata": {},
   "outputs": [
    {
     "data": {
      "text/plain": [
       "array([16, 10, 14, 12, 12, 10, 14, 14])"
      ]
     },
     "execution_count": 42,
     "metadata": {},
     "output_type": "execute_result"
    }
   ],
   "source": [
    "a=np.random.randint(10,20,8)\n",
    "a"
   ]
  },
  {
   "cell_type": "code",
   "execution_count": 43,
   "id": "092425e5-6690-4fcb-8d14-a5cb5b984e1d",
   "metadata": {},
   "outputs": [
    {
     "data": {
      "text/plain": [
       "3012966228272"
      ]
     },
     "execution_count": 43,
     "metadata": {},
     "output_type": "execute_result"
    }
   ],
   "source": [
    "id(a)"
   ]
  },
  {
   "cell_type": "code",
   "execution_count": 44,
   "id": "a0b6e8fa-436e-47c6-b02e-d15e7255db8e",
   "metadata": {},
   "outputs": [
    {
     "ename": "NameError",
     "evalue": "name 'arr' is not defined",
     "output_type": "error",
     "traceback": [
      "\u001b[1;31m---------------------------------------------------------------------------\u001b[0m",
      "\u001b[1;31mNameError\u001b[0m                                 Traceback (most recent call last)",
      "Cell \u001b[1;32mIn[44], line 1\u001b[0m\n\u001b[1;32m----> 1\u001b[0m arr\n",
      "\u001b[1;31mNameError\u001b[0m: name 'arr' is not defined"
     ]
    }
   ],
   "source": [
    "arr"
   ]
  },
  {
   "cell_type": "code",
   "execution_count": 45,
   "id": "cce94b16-e447-4061-a3d1-9754190754f3",
   "metadata": {},
   "outputs": [
    {
     "data": {
      "text/plain": [
       "[1, 2, 3, 4, 5]"
      ]
     },
     "execution_count": 45,
     "metadata": {},
     "output_type": "execute_result"
    }
   ],
   "source": [
    "list=[1,2,3,4,5]\n",
    "list"
   ]
  },
  {
   "cell_type": "code",
   "execution_count": 46,
   "id": "4c063f6f-ad63-4d4d-97b5-5567e5b46702",
   "metadata": {},
   "outputs": [
    {
     "data": {
      "text/plain": [
       "array([1, 2, 3, 4, 5])"
      ]
     },
     "execution_count": 46,
     "metadata": {},
     "output_type": "execute_result"
    }
   ],
   "source": [
    "arr=np.array(list)\n",
    "arr"
   ]
  },
  {
   "cell_type": "code",
   "execution_count": 50,
   "id": "51d693b8-d4ee-4028-b98d-982f6503ac19",
   "metadata": {},
   "outputs": [],
   "source": [
    "arr2=np.random.randint(0,50,(5,5))"
   ]
  },
  {
   "cell_type": "code",
   "execution_count": 53,
   "id": "720aaf59-35d7-4b55-818e-a5fc263790a5",
   "metadata": {},
   "outputs": [
    {
     "data": {
      "text/plain": [
       "array([[85, 61, 44, 24, 54, 38, 14,  0, 99, 72],\n",
       "       [72, 71, 81, 59, 36, 58, 93, 67, 39, 91],\n",
       "       [30, 32, 94, 50, 35, 10, 17, 44, 30, 42],\n",
       "       [69, 51, 17, 33, 82, 56, 22, 63, 95, 68],\n",
       "       [31, 14, 71, 29, 29,  2,  7, 63, 45,  9],\n",
       "       [41, 84, 67, 25,  6, 43, 98, 90, 86, 50],\n",
       "       [89,  0, 22,  8, 93, 89, 59, 89,  3, 89],\n",
       "       [81, 50, 58, 49, 19, 37,  6, 69, 70, 53],\n",
       "       [90, 58, 78, 47, 41, 76, 80, 37, 59, 84],\n",
       "       [51, 16, 95, 12, 51, 74, 61, 33, 69, 93]])"
      ]
     },
     "execution_count": 53,
     "metadata": {},
     "output_type": "execute_result"
    }
   ],
   "source": [
    "b=np.random.randint(0,100,(10,10))\n",
    "b"
   ]
  },
  {
   "cell_type": "code",
   "execution_count": 54,
   "id": "6e72ad34-d674-4dd6-bc70-0992d4abba97",
   "metadata": {},
   "outputs": [
    {
     "data": {
      "text/plain": [
       "array([[69, 51, 17, 33, 82, 56, 22, 63, 95, 68],\n",
       "       [31, 14, 71, 29, 29,  2,  7, 63, 45,  9],\n",
       "       [41, 84, 67, 25,  6, 43, 98, 90, 86, 50],\n",
       "       [89,  0, 22,  8, 93, 89, 59, 89,  3, 89],\n",
       "       [81, 50, 58, 49, 19, 37,  6, 69, 70, 53],\n",
       "       [90, 58, 78, 47, 41, 76, 80, 37, 59, 84],\n",
       "       [51, 16, 95, 12, 51, 74, 61, 33, 69, 93]])"
      ]
     },
     "execution_count": 54,
     "metadata": {},
     "output_type": "execute_result"
    }
   ],
   "source": [
    "b[3:]"
   ]
  },
  {
   "cell_type": "code",
   "execution_count": 55,
   "id": "28ab5c0b-fd33-45eb-8783-f2b4ea1f5744",
   "metadata": {},
   "outputs": [
    {
     "data": {
      "text/plain": [
       "array([[30, 32, 94, 50, 35, 10, 17, 44, 30, 42],\n",
       "       [69, 51, 17, 33, 82, 56, 22, 63, 95, 68],\n",
       "       [31, 14, 71, 29, 29,  2,  7, 63, 45,  9],\n",
       "       [41, 84, 67, 25,  6, 43, 98, 90, 86, 50]])"
      ]
     },
     "execution_count": 55,
     "metadata": {},
     "output_type": "execute_result"
    }
   ],
   "source": [
    "b[2:6]"
   ]
  },
  {
   "cell_type": "code",
   "execution_count": 56,
   "id": "dcbea862-83fe-4ac2-953a-4dfd464246f4",
   "metadata": {},
   "outputs": [
    {
     "data": {
      "text/plain": [
       "array([[85, 61, 44, 24, 54, 38, 14,  0, 99, 72],\n",
       "       [72, 71, 81, 59, 36, 58, 93, 67, 39, 91],\n",
       "       [30, 32, 94, 50, 35, 10, 17, 44, 30, 42],\n",
       "       [69, 51, 17, 33, 82, 56, 22, 63, 95, 68],\n",
       "       [31, 14, 71, 29, 29,  2,  7, 63, 45,  9]])"
      ]
     },
     "execution_count": 56,
     "metadata": {},
     "output_type": "execute_result"
    }
   ],
   "source": [
    "b[0:5]"
   ]
  },
  {
   "cell_type": "code",
   "execution_count": 59,
   "id": "7820e942-21c3-4ad4-90cf-ad282e7c8f42",
   "metadata": {},
   "outputs": [
    {
     "data": {
      "text/plain": [
       "43"
      ]
     },
     "execution_count": 59,
     "metadata": {},
     "output_type": "execute_result"
    }
   ],
   "source": [
    "b[-5,-5]"
   ]
  },
  {
   "cell_type": "code",
   "execution_count": 63,
   "id": "a12fbaf2-a781-4578-8a48-7e51368c00ec",
   "metadata": {},
   "outputs": [
    {
     "data": {
      "text/plain": [
       "array([[85, 61, 44, 24, 54, 38, 14,  0, 99, 72],\n",
       "       [30, 32, 94, 50, 35, 10, 17, 44, 30, 42],\n",
       "       [31, 14, 71, 29, 29,  2,  7, 63, 45,  9],\n",
       "       [89,  0, 22,  8, 93, 89, 59, 89,  3, 89],\n",
       "       [90, 58, 78, 47, 41, 76, 80, 37, 59, 84]])"
      ]
     },
     "execution_count": 63,
     "metadata": {},
     "output_type": "execute_result"
    }
   ],
   "source": [
    "b[::2]"
   ]
  },
  {
   "cell_type": "code",
   "execution_count": 62,
   "id": "5104486a-975b-4f29-81b1-40b1bced9684",
   "metadata": {},
   "outputs": [
    {
     "data": {
      "text/plain": [
       "array([[51, 16, 95, 12, 51, 74, 61, 33, 69, 93],\n",
       "       [81, 50, 58, 49, 19, 37,  6, 69, 70, 53],\n",
       "       [41, 84, 67, 25,  6, 43, 98, 90, 86, 50],\n",
       "       [69, 51, 17, 33, 82, 56, 22, 63, 95, 68],\n",
       "       [72, 71, 81, 59, 36, 58, 93, 67, 39, 91]])"
      ]
     },
     "execution_count": 62,
     "metadata": {},
     "output_type": "execute_result"
    }
   ],
   "source": [
    "b[::-2]"
   ]
  },
  {
   "cell_type": "code",
   "execution_count": 64,
   "id": "84a881f6-6d51-4bb4-8f03-f21072e5442c",
   "metadata": {},
   "outputs": [
    {
     "data": {
      "text/plain": [
       "array([[72, 71, 81, 59, 36, 58, 93, 67, 39, 91],\n",
       "       [41, 84, 67, 25,  6, 43, 98, 90, 86, 50],\n",
       "       [51, 16, 95, 12, 51, 74, 61, 33, 69, 93]])"
      ]
     },
     "execution_count": 64,
     "metadata": {},
     "output_type": "execute_result"
    }
   ],
   "source": [
    "b[1::4]"
   ]
  },
  {
   "cell_type": "code",
   "execution_count": null,
   "id": "d30b3b2a-b83b-4a2d-8db4-678e8d3a7d92",
   "metadata": {},
   "outputs": [],
   "source": []
  }
 ],
 "metadata": {
  "kernelspec": {
   "display_name": "Python [conda env:base] *",
   "language": "python",
   "name": "conda-base-py"
  },
  "language_info": {
   "codemirror_mode": {
    "name": "ipython",
    "version": 3
   },
   "file_extension": ".py",
   "mimetype": "text/x-python",
   "name": "python",
   "nbconvert_exporter": "python",
   "pygments_lexer": "ipython3",
   "version": "3.12.7"
  }
 },
 "nbformat": 4,
 "nbformat_minor": 5
}
